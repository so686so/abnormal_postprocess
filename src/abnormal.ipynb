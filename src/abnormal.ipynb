{
 "cells": [
  {
   "cell_type": "code",
   "execution_count": 9,
   "metadata": {},
   "outputs": [
    {
     "name": "stdout",
     "output_type": "stream",
     "text": [
      "[['0', '140.42', '57.25', '19.49', '37.93'], ['0', '162.94', '68.3', '22.09', '39.76'], ['6', 138.77, 55.31, 47.29999999999998, 53.78999999999999]]\n"
     ]
    }
   ],
   "source": [
    "# violence post-processing\n",
    "# violence class ID= 6\n",
    "# person class ID = 1\n",
    "\n",
    "import sys\n",
    "\n",
    "with open('../samples/violence_sample_positive.txt', 'r') as f:\n",
    "    input_file = f.read()\n",
    "#with open('../samples/violence_sample_negative.txt', 'r') as f:\n",
    "#    input_file = f.read()\n",
    "\n",
    "# data format: [class, track_id, x, y, width, height]\n",
    "input_data = [x.split(' ') for x in input_file.split('\\n')]\n",
    "input_data = sorted(input_data, key=lambda x: x[0])\n",
    "\n",
    "res = []\n",
    "\n",
    "violences = []\n",
    "person_mid_points = []\n",
    "for _bound_box in input_data:\n",
    "    if _bound_box[0] == '6':\n",
    "        violence_x_range = [float(_bound_box[1]), float(_bound_box[1]) + float(_bound_box[3])]\n",
    "        violence_y_range = [float(_bound_box[2]), float(_bound_box[2]) + float(_bound_box[4])]\n",
    "        violences.append([violence_x_range, violence_y_range])\n",
    "    elif _bound_box[0] == '0':\n",
    "        person_mid_points.append([float(_bound_box[1]) + float(_bound_box[3]) / 2, float(_bound_box[2]) + float(_bound_box[4]) / 2])\n",
    "        res.append(_bound_box)\n",
    "\n",
    "for violence in violences:\n",
    "    person_cnt = 0\n",
    "    for mid_point in person_mid_points:\n",
    "        if violence[0][0] < mid_point[0] < violence[0][1] and violence[1][0] < mid_point[1] < violence[1][1]:\n",
    "            person_cnt += 1\n",
    "        if person_cnt >= 2:\n",
    "            res.append(['6', violence[0][0], violence[1][0], violence[0][1] - violence[0][0], violence[1][1] - violence[1][0]])\n",
    "            \n",
    "print(res, sep='\\n')\n",
    "        "
   ]
  },
  {
   "cell_type": "code",
   "execution_count": null,
   "metadata": {},
   "outputs": [],
   "source": [
    "# Dumping post-processing\n",
    "# Person class ID = 0\n",
    "# Trash class ID = 8\n",
    "# Dumping class ID = 22\n",
    "\n",
    "import sys"
   ]
  }
 ],
 "metadata": {
  "kernelspec": {
   "display_name": "Python 3",
   "language": "python",
   "name": "python3"
  },
  "language_info": {
   "codemirror_mode": {
    "name": "ipython",
    "version": 3
   },
   "file_extension": ".py",
   "mimetype": "text/x-python",
   "name": "python",
   "nbconvert_exporter": "python",
   "pygments_lexer": "ipython3",
   "version": "3.9.6"
  },
  "orig_nbformat": 4
 },
 "nbformat": 4,
 "nbformat_minor": 2
}
